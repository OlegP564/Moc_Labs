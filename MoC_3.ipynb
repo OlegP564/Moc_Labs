{
  "nbformat": 4,
  "nbformat_minor": 0,
  "metadata": {
    "colab": {
      "provenance": [],
      "authorship_tag": "ABX9TyNexuzWqXqezZGYcx6tJIHL",
      "include_colab_link": true
    },
    "kernelspec": {
      "name": "python3",
      "display_name": "Python 3"
    },
    "language_info": {
      "name": "python"
    }
  },
  "cells": [
    {
      "cell_type": "markdown",
      "metadata": {
        "id": "view-in-github",
        "colab_type": "text"
      },
      "source": [
        "<a href=\"https://colab.research.google.com/github/OlegP564/Moc_Labs/blob/main/MoC_3.ipynb\" target=\"_parent\"><img src=\"https://colab.research.google.com/assets/colab-badge.svg\" alt=\"Open In Colab\"/></a>"
      ]
    },
    {
      "cell_type": "markdown",
      "source": [
        "##Mitm -- людина посередені\n",
        "###Варіант 11, regular\n",
        "\n",
        "Вхідні дані:\n",
        "\n",
        "С = 0x366cf825d6dc4cb7c629722701d8e64bc48a4dadadacc7965b5869dd6ecb3cd3fd47b387180b75fa86b2f35a90900a1b3ad5b5e4e82cd25891acbb2ab8562cca4e2d273ba289b47fe0e5db0cd34533932af39af990a7c9e3771046e363a84d8dc1023ac11f5e054164eba29f2dd0179b0b692cba4d763bb9b03a438fab671fb57c2a61b60d9f39a9bf03c6ff3c9632055f162dbcd9489bd8ef508a7ec1c961f60f86af7b36e67c4cbfde300de35a77e8f455616fbcf46d37236939772d1d62450a25af249a8d66f1f4ed90090cc63b3ef1ace7850dd06dafc247ab869a26cb987e7ba6b2833e48407c0365f631880324e3e0f10f3db434e7c41ef4b99bbe5bcc\n",
        "\n",
        "n = 0xB6DBAF4C7C1405E3F82D73A3F4B12661207066620BAAB6394DAF8225475F3E4D69FF84F540F124460991DEA35417D47A493CDF3A8F3AE9D061BA64F72776601EC240F99049AE9C1B8B04A353AEBC91961DE8D8262497DC9530BD778A62BCF8567C09C5FE01218F34891570C0F0921D4B9EA74B4C1299E556EDAEB3D4DA12AA0A2A6F024B2C6217706C4B7409AB03380E5034EC3D112961EBACE13C8DE7EC1D1338C8157059DA0A8A3BA586BF395C6D8F1577D64906CBAE604373D47F392AF50836E3A726EF6EF3D670A4B85BBABDD217310F92A2DBC500EE58F7D23D389786203F1BDE252BA706CAD6381886FAA83B15B16439160AB52C7E99F0226F6535926F\n",
        "\n",
        "e = 65537\n"
      ],
      "metadata": {
        "id": "LiKWD858xfLa"
      }
    },
    {
      "cell_type": "code",
      "source": [
        "import math\n",
        "import numpy as np\n",
        "\n",
        "n = 0xB6DBAF4C7C1405E3F82D73A3F4B12661207066620BAAB6394DAF8225475F3E4D69FF84F540F124460991DEA35417D47A493CDF3A8F3AE9D061BA64F72776601EC240F99049AE9C1B8B04A353AEBC91961DE8D8262497DC9530BD778A62BCF8567C09C5FE01218F34891570C0F0921D4B9EA74B4C1299E556EDAEB3D4DA12AA0A2A6F024B2C6217706C4B7409AB03380E5034EC3D112961EBACE13C8DE7EC1D1338C8157059DA0A8A3BA586BF395C6D8F1577D64906CBAE604373D47F392AF50836E3A726EF6EF3D670A4B85BBABDD217310F92A2DBC500EE58F7D23D389786203F1BDE252BA706CAD6381886FAA83B15B16439160AB52C7E99F0226F6535926F\n",
        "C = 0x366cf825d6dc4cb7c629722701d8e64bc48a4dadadacc7965b5869dd6ecb3cd3fd47b387180b75fa86b2f35a90900a1b3ad5b5e4e82cd25891acbb2ab8562cca4e2d273ba289b47fe0e5db0cd34533932af39af990a7c9e3771046e363a84d8dc1023ac11f5e054164eba29f2dd0179b0b692cba4d763bb9b03a438fab671fb57c2a61b60d9f39a9bf03c6ff3c9632055f162dbcd9489bd8ef508a7ec1c961f60f86af7b36e67c4cbfde300de35a77e8f455616fbcf46d37236939772d1d62450a25af249a8d66f1f4ed90090cc63b3ef1ace7850dd06dafc247ab869a26cb987e7ba6b2833e48407c0365f631880324e3e0f10f3db434e7c41ef4b99bbe5bcc\n",
        "e = 65537\n",
        "# C - шифротекст, (n,e) - відкритий ключ"
      ],
      "metadata": {
        "id": "s1lFjmETxpDo"
      },
      "execution_count": null,
      "outputs": []
    },
    {
      "cell_type": "markdown",
      "source": [
        "*   $ C =M^e mod(n) $\n",
        "*   $ C < 2^l$\n",
        "*   $l<< log_2,n$\n",
        "\n",
        "\n",
        "\n",
        "\n"
      ],
      "metadata": {
        "id": "zjg2YnyP1sER"
      }
    },
    {
      "cell_type": "code",
      "execution_count": null,
      "metadata": {
        "id": "fSc7-zbHek-B",
        "colab": {
          "base_uri": "https://localhost:8080/"
        },
        "outputId": "6000fd16-77d5-41c1-80fd-681aae24a1fe"
      },
      "outputs": [
        {
          "output_type": "stream",
          "name": "stdout",
          "text": [
            "l <<  2047.5145810683834 , l =  20\n",
            "2^(l/2) <<  1024.0\n"
          ]
        }
      ],
      "source": [
        "\n",
        "l= 20 # - гіперпараметр, від якого експоненційно залежить кількість розглянутих претендентів на відкритий текст, заданий умовою лабораторної.\n",
        "print (\"l << \",(math.log(n, 2)),\", l = \", l)\n",
        "print (\"2^(l/2) << \", 2**(l/2))\n"
      ]
    },
    {
      "cell_type": "code",
      "source": [
        "X = np.array([[ i+1, pow(i+1,e,n) ] for i in range (int(2**(l/2)-1))]) # множина пар (Т, (Т^e)mod n), де Т від 1 до 2^(l/2).\n"
      ],
      "metadata": {
        "id": "piY2rOzT12At"
      },
      "execution_count": null,
      "outputs": []
    },
    {
      "cell_type": "code",
      "source": [
        "def gcdExtended(a, b):\n",
        "    if a == 0 :\n",
        "        return b,0,1\n",
        "    gcd,x1,y1 = gcdExtended(b%a, a)\n",
        "    x = y1 - (b//a) * x1\n",
        "    y = x1\n",
        "    return gcd,x,y # обчислюємо найбільший спільний дільник\n",
        "\n",
        "def inverted (a, n):\n",
        "  gcd, x, y = gcdExtended(a, n)\n",
        "  if gcd == 1:\n",
        "    return ((x % n + n) % n) # обчислюємо (а^-1) mod n\n",
        "  else:\n",
        "    return (-1)"
      ],
      "metadata": {
        "id": "N5PP9LWX_rgg"
      },
      "execution_count": null,
      "outputs": []
    },
    {
      "cell_type": "code",
      "source": [
        "def Mitm (C, n, e, X):\n",
        "  for i in range (int(2**(l/2)-1)):\n",
        "    s = i+1 # s від 1 до 2^(l/2)\n",
        "    invert = int(inverted(s, n)) # обчислюємо (s^-1) mod n\n",
        "    if invert <= int(2**(l/2)-1):\n",
        "      Cs = (C*(X[(invert-1),1]))%n # якщо pow(invert, e, n) обчислено в масиві Х, беремо звідти.\n",
        "    else: Cs = (C*pow(invert, e, n))%n # якщо ні то обчислюємо\n",
        "    for j in range (int(2**(l/2)-1)): # порівнюємо обчислене Сs (почергово, для кожного s), з числами в масиві Х\n",
        "      if Cs == X[j,1]:  # знайшли\n",
        "        M = s * X[j,0]  # порахували відкритий текст\n",
        "        return s, X[j,0], M\n",
        "  return 1 # не знайшли"
      ],
      "metadata": {
        "id": "GmKMVqx38Clo"
      },
      "execution_count": null,
      "outputs": []
    },
    {
      "cell_type": "code",
      "source": [
        "print (\"regular: (S,T, M) = \",Mitm(C, n, e, X))"
      ],
      "metadata": {
        "colab": {
          "base_uri": "https://localhost:8080/"
        },
        "id": "cdGIg46SOzrn",
        "outputId": "e6dbe2fd-b869-42b1-a2ba-5bde37b8ade5"
      },
      "execution_count": null,
      "outputs": [
        {
          "output_type": "stream",
          "name": "stdout",
          "text": [
            "regular: (S,T, M) =  (955, 1013, 967415)\n"
          ]
        }
      ]
    },
    {
      "cell_type": "markdown",
      "source": [
        "## SE -- китайська теорема про лишки\n",
        "###Варіант 11, eze\n",
        "\n",
        "Вхідні дані:\n",
        "\n",
        "  \n",
        "  C1 = 0x3115f665a5c62cfaeb9f3f0d2dfcfe8cafb4f90a005e20ea48d9b41607ef7188\n",
        "\n",
        "  N1 = 0xEEB25A696A48E3DAAB70EC4C4BEF7C5998A07E465C90BD37F331F5BAA80011F9\n",
        "\n",
        "  C2 = 0x243f9d1059312b9daa01cae439cfdab7a4035364b04e5a993e43a68b79636b36\n",
        "\n",
        "  N2 = 0xAB5F12B623D023289CB3CAE70F1849808CE0C31F9733AD6F4AC2A5564DA84F2B\n",
        "\n",
        "  C3 = 0x20f6e6410982d39289cc4eacc04ea2ce8c853dece720f78e88963c5343c4659c\n",
        "\n",
        "  N3 = 0x9CBDBC7A89BB945021E1924C12A78122C0E0A7E8647AF5EDF9C47A9F021A5305\n",
        "\n",
        "e = 3\n"
      ],
      "metadata": {
        "id": "K1RkKj5cWLCF"
      }
    },
    {
      "cell_type": "code",
      "source": [
        "import math\n",
        "import numpy as np\n",
        "\n",
        "C1 = 0x3115f665a5c62cfaeb9f3f0d2dfcfe8cafb4f90a005e20ea48d9b41607ef7188\n",
        "\n",
        "N1 = 0xEEB25A696A48E3DAAB70EC4C4BEF7C5998A07E465C90BD37F331F5BAA80011F9\n",
        "\n",
        "C2 = 0x243f9d1059312b9daa01cae439cfdab7a4035364b04e5a993e43a68b79636b36\n",
        "\n",
        "N2 = 0xAB5F12B623D023289CB3CAE70F1849808CE0C31F9733AD6F4AC2A5564DA84F2B\n",
        "\n",
        "C3 = 0x20f6e6410982d39289cc4eacc04ea2ce8c853dece720f78e88963c5343c4659c\n",
        "\n",
        "N3 = 0x9CBDBC7A89BB945021E1924C12A78122C0E0A7E8647AF5EDF9C47A9F021A5305\n",
        "\n",
        "e = 3\n",
        "k = 3\n",
        "# C1, С2, С3 - шифротексти  (N1, e) (N2, e) (N3, e) - відкриті ключі,  k - кількість перехоплених повідомлень"
      ],
      "metadata": {
        "id": "a89WyoA-eQCr"
      },
      "execution_count": null,
      "outputs": []
    },
    {
      "cell_type": "code",
      "source": [
        "print( gcdExtended(N1,N2)[0])\n",
        "print( gcdExtended(N1,N3)[0])\n",
        "print( gcdExtended(N2,N3)[0]) #знаходимо найбільший спільний дільник, перевіряємо що він == 1"
      ],
      "metadata": {
        "colab": {
          "base_uri": "https://localhost:8080/"
        },
        "id": "1eOwwG3lfB_K",
        "outputId": "f2139098-09fb-43f4-960e-13066e404997"
      },
      "execution_count": null,
      "outputs": [
        {
          "output_type": "stream",
          "name": "stdout",
          "text": [
            "1\n",
            "1\n",
            "1\n"
          ]
        }
      ]
    },
    {
      "cell_type": "code",
      "source": [
        "def ktl (C1, N1, C2, N2, C3, N3):\n",
        "  m = N1*N2*N3\n",
        "  m1=int(m/N1)\n",
        "  m2=int(m/N2)\n",
        "  m3=int(m/N3)\n",
        "  n1= inverted (m1, N1)\n",
        "  n2= inverted (m2, N2)\n",
        "  n3= inverted (m3, N3)\n",
        "  return (m1*n1*C1+m2*n2*C2+m3*n3*C3)%m #я вже не пом`ятаю що це за алгоритм, але його давала Ковальчук і він працює.\n",
        "\n",
        "def sqr3 (M_SE, Me): # обчислюємо кубічнй корінь числа \"Me\" методом Ньютона. M_SE здогадка про значення корня,спочатку довільна.\n",
        "  for i in range(10000):\n",
        "    Temp=M_SE\n",
        "    M_SE= int((((1/3)*(2*M_SE+(Me/(pow(M_SE,2))))))) # уточнюємо здогадку\n",
        "    if Temp == M_SE: # якщо уточнення не змінило значення M_SE\n",
        "      return M_SE, i # повернути значення M_SE та кількість уточнювальних ітерацій\n",
        "  return M_SE"
      ],
      "metadata": {
        "id": "Zurv3qYuiIiG"
      },
      "execution_count": 149,
      "outputs": []
    },
    {
      "cell_type": "code",
      "source": [
        "Me= ktl(C1, N1, C2, N2, C3, N3) #знаходимо відкритий текст М в степені е за допомогою Кит.Теор.Лиш.\n",
        "print(Me)\n",
        "M_SE= 90000000000000000000000000000000000000000000000000000000000000000000000000 # здогадка про значення корня,спочатку довільна\n",
        "SQR=sqr3(M_SE,Me) #знаходимо відкритий текст М як кубічний корінь з М в степені е\n",
        "print(SQR)"
      ],
      "metadata": {
        "colab": {
          "base_uri": "https://localhost:8080/"
        },
        "id": "eTmdCQwitYeM",
        "outputId": "9212c927-f6c8-4a09-ef04-be888b79f7a6"
      },
      "execution_count": 152,
      "outputs": [
        {
          "output_type": "stream",
          "name": "stdout",
          "text": [
            "451533221305140250685392078244536045302413528067517312836278118138490255265461679699345617877891072296289780631198384812629463058215098098636996648140727344674376362056621688706965088829828819778226754495059345343910100065056608392\n",
            "90000000000000000000000000000000000000000000000000000000000000000000000000\n",
            "(76717875838348515986151292665723621813630498877286286597849595428888637341696, 36)\n"
          ]
        }
      ]
    }
  ]
}
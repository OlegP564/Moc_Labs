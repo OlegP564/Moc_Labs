{
  "nbformat": 4,
  "nbformat_minor": 0,
  "metadata": {
    "colab": {
      "provenance": [],
      "authorship_tag": "ABX9TyMVaFli/PQu7t16e+Q1wqhW",
      "include_colab_link": true
    },
    "kernelspec": {
      "name": "python3",
      "display_name": "Python 3"
    },
    "language_info": {
      "name": "python"
    }
  },
  "cells": [
    {
      "cell_type": "markdown",
      "metadata": {
        "id": "view-in-github",
        "colab_type": "text"
      },
      "source": [
        "<a href=\"https://colab.research.google.com/github/OlegP564/Moc_Labs/blob/main/MoC_3.ipynb\" target=\"_parent\"><img src=\"https://colab.research.google.com/assets/colab-badge.svg\" alt=\"Open In Colab\"/></a>"
      ]
    },
    {
      "cell_type": "markdown",
      "source": [
        "##Mitm -- людина посередені\n",
        "###Варіант 11, regular\n",
        "\n",
        "Вхідні дані:\n",
        "\n",
        "С = 0x366cf825d6dc4cb7c629722701d8e64bc48a4dadadacc7965b5869dd6ecb3cd3fd47b387180b75fa86b2f35a90900a1b3ad5b5e4e82cd25891acbb2ab8562cca4e2d273ba289b47fe0e5db0cd34533932af39af990a7c9e3771046e363a84d8dc1023ac11f5e054164eba29f2dd0179b0b692cba4d763bb9b03a438fab671fb57c2a61b60d9f39a9bf03c6ff3c9632055f162dbcd9489bd8ef508a7ec1c961f60f86af7b36e67c4cbfde300de35a77e8f455616fbcf46d37236939772d1d62450a25af249a8d66f1f4ed90090cc63b3ef1ace7850dd06dafc247ab869a26cb987e7ba6b2833e48407c0365f631880324e3e0f10f3db434e7c41ef4b99bbe5bcc\n",
        "\n",
        "n = 0xB6DBAF4C7C1405E3F82D73A3F4B12661207066620BAAB6394DAF8225475F3E4D69FF84F540F124460991DEA35417D47A493CDF3A8F3AE9D061BA64F72776601EC240F99049AE9C1B8B04A353AEBC91961DE8D8262497DC9530BD778A62BCF8567C09C5FE01218F34891570C0F0921D4B9EA74B4C1299E556EDAEB3D4DA12AA0A2A6F024B2C6217706C4B7409AB03380E5034EC3D112961EBACE13C8DE7EC1D1338C8157059DA0A8A3BA586BF395C6D8F1577D64906CBAE604373D47F392AF50836E3A726EF6EF3D670A4B85BBABDD217310F92A2DBC500EE58F7D23D389786203F1BDE252BA706CAD6381886FAA83B15B16439160AB52C7E99F0226F6535926F\n",
        "\n",
        "e = 65537\n"
      ],
      "metadata": {
        "id": "LiKWD858xfLa"
      }
    },
    {
      "cell_type": "code",
      "source": [
        "import math\n",
        "import numpy as np\n",
        "\n",
        "n = 0xB6DBAF4C7C1405E3F82D73A3F4B12661207066620BAAB6394DAF8225475F3E4D69FF84F540F124460991DEA35417D47A493CDF3A8F3AE9D061BA64F72776601EC240F99049AE9C1B8B04A353AEBC91961DE8D8262497DC9530BD778A62BCF8567C09C5FE01218F34891570C0F0921D4B9EA74B4C1299E556EDAEB3D4DA12AA0A2A6F024B2C6217706C4B7409AB03380E5034EC3D112961EBACE13C8DE7EC1D1338C8157059DA0A8A3BA586BF395C6D8F1577D64906CBAE604373D47F392AF50836E3A726EF6EF3D670A4B85BBABDD217310F92A2DBC500EE58F7D23D389786203F1BDE252BA706CAD6381886FAA83B15B16439160AB52C7E99F0226F6535926F\n",
        "C = 0x366cf825d6dc4cb7c629722701d8e64bc48a4dadadacc7965b5869dd6ecb3cd3fd47b387180b75fa86b2f35a90900a1b3ad5b5e4e82cd25891acbb2ab8562cca4e2d273ba289b47fe0e5db0cd34533932af39af990a7c9e3771046e363a84d8dc1023ac11f5e054164eba29f2dd0179b0b692cba4d763bb9b03a438fab671fb57c2a61b60d9f39a9bf03c6ff3c9632055f162dbcd9489bd8ef508a7ec1c961f60f86af7b36e67c4cbfde300de35a77e8f455616fbcf46d37236939772d1d62450a25af249a8d66f1f4ed90090cc63b3ef1ace7850dd06dafc247ab869a26cb987e7ba6b2833e48407c0365f631880324e3e0f10f3db434e7c41ef4b99bbe5bcc\n",
        "e = 65537\n"
      ],
      "metadata": {
        "id": "s1lFjmETxpDo"
      },
      "execution_count": 124,
      "outputs": []
    },
    {
      "cell_type": "markdown",
      "source": [
        "*   $ C =M^e mod(n) $\n",
        "*   $ C < 2^l$\n",
        "*   $l<< log_2,n$\n",
        "\n",
        "\n",
        "\n",
        "\n"
      ],
      "metadata": {
        "id": "zjg2YnyP1sER"
      }
    },
    {
      "cell_type": "code",
      "execution_count": 125,
      "metadata": {
        "id": "fSc7-zbHek-B",
        "colab": {
          "base_uri": "https://localhost:8080/"
        },
        "outputId": "6000fd16-77d5-41c1-80fd-681aae24a1fe"
      },
      "outputs": [
        {
          "output_type": "stream",
          "name": "stdout",
          "text": [
            "l <<  2047.5145810683834 , l =  20\n",
            "2^(l/2) <<  1024.0\n"
          ]
        }
      ],
      "source": [
        "\n",
        "l= 20\n",
        "print (\"l << \",(math.log(n, 2)),\", l = \", l)\n",
        "print (\"2^(l/2) << \", 2**(l/2))\n"
      ]
    },
    {
      "cell_type": "code",
      "source": [
        "X = np.array([[ i+1, pow(i+1,e,n) ] for i in range (int(2**(l/2)-1))])\n"
      ],
      "metadata": {
        "id": "piY2rOzT12At"
      },
      "execution_count": 126,
      "outputs": []
    },
    {
      "cell_type": "code",
      "source": [
        "def gcdExtended(a, b):\n",
        "    if a == 0 :\n",
        "        return b,0,1\n",
        "    gcd,x1,y1 = gcdExtended(b%a, a)\n",
        "    x = y1 - (b//a) * x1\n",
        "    y = x1\n",
        "    return gcd,x,y\n",
        "\n",
        "def inverted (a, n):\n",
        "  gcd, x, y = gcdExtended(a, n)\n",
        "  if gcd == 1:\n",
        "    return ((x % n + n) % n)\n",
        "  else:\n",
        "    return (-1)"
      ],
      "metadata": {
        "id": "N5PP9LWX_rgg"
      },
      "execution_count": 127,
      "outputs": []
    },
    {
      "cell_type": "code",
      "source": [
        "def Mitm (C, n, e, X):\n",
        "  for i in range (int(2**(l/2)-1)):\n",
        "    s = i+1\n",
        "    invert = int(inverted(s, n))\n",
        "    if invert <= int(2**(l/2)-1):\n",
        "      Cs = (C*(X[(invert-1),1]))%n\n",
        "    else: Cs = (C*pow(invert, e, n))%n\n",
        "    for j in range (int(2**(l/2)-1)):\n",
        "      if Cs == X[j,1]:\n",
        "        M = s * X[j,0]\n",
        "        return s, X[j,0], M\n",
        "  return 1"
      ],
      "metadata": {
        "id": "GmKMVqx38Clo"
      },
      "execution_count": 128,
      "outputs": []
    },
    {
      "cell_type": "code",
      "source": [
        "print (\"regular: (S,T, M) = \",Mitm(C, n, e, X))"
      ],
      "metadata": {
        "colab": {
          "base_uri": "https://localhost:8080/"
        },
        "id": "cdGIg46SOzrn",
        "outputId": "e6dbe2fd-b869-42b1-a2ba-5bde37b8ade5"
      },
      "execution_count": 129,
      "outputs": [
        {
          "output_type": "stream",
          "name": "stdout",
          "text": [
            "regular: (S,T, M) =  (955, 1013, 967415)\n"
          ]
        }
      ]
    }
  ]
}